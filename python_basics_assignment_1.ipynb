{
  "nbformat": 4,
  "nbformat_minor": 0,
  "metadata": {
    "colab": {
      "provenance": [],
      "collapsed_sections": [],
      "authorship_tag": "ABX9TyPgMqv9hVo1NRw2xgNzmlge",
      "include_colab_link": true
    },
    "kernelspec": {
      "name": "python3",
      "display_name": "Python 3"
    },
    "language_info": {
      "name": "python"
    }
  },
  "cells": [
    {
      "cell_type": "markdown",
      "metadata": {
        "id": "view-in-github",
        "colab_type": "text"
      },
      "source": [
        "<a href=\"https://colab.research.google.com/github/hardeep79/ineuron-assignment/blob/main/python_basics_assignment_1.ipynb\" target=\"_parent\"><img src=\"https://colab.research.google.com/assets/colab-badge.svg\" alt=\"Open In Colab\"/></a>"
      ]
    },
    {
      "cell_type": "markdown",
      "source": [
        "1. In the below elements which of them are values or an expression? eg:- values can be\n",
        "integer or string and expressions will be mathematical operators.\n",
        "*\n",
        "&#39;hello&#39;\n",
        "-87.8\n",
        "-\n",
        "/\n",
        "+\n",
        "6"
      ],
      "metadata": {
        "id": "HADTMvZZzet3"
      }
    },
    {
      "cell_type": "markdown",
      "source": [],
      "metadata": {
        "id": "22eJtlTkzdsy"
      }
    },
    {
      "cell_type": "code",
      "source": [],
      "metadata": {
        "id": "N7FhpHNUzhu2"
      },
      "execution_count": null,
      "outputs": []
    },
    {
      "cell_type": "markdown",
      "source": [
        "'hello' is a string,\n",
        "\n",
        "-87.8 is float,\n",
        "\n",
        "6 is integer,\n",
        "\n",
        "*, -, +,  /, are expressions"
      ],
      "metadata": {
        "id": "EaQvY9wbzi99"
      }
    },
    {
      "cell_type": "code",
      "source": [],
      "metadata": {
        "id": "WLZMzP-50T9u"
      },
      "execution_count": null,
      "outputs": []
    },
    {
      "cell_type": "markdown",
      "source": [
        "2. What is the difference between string and variable?\n",
        "\n",
        "String represents text which is inserted in single or double inverted commas. Any number inserted in commas will be a string. \n",
        "\n",
        "Examples of string: \"ineuron\", \"1245\"\n",
        "\n",
        "Variable is a name that can refer to any value\n",
        "\n",
        "Examples of variable: x=10, a = \"any name\". Here both 'x' and 'a' are variables. "
      ],
      "metadata": {
        "id": "iVm-WheF0saI"
      }
    },
    {
      "cell_type": "code",
      "source": [],
      "metadata": {
        "id": "vnBWBQZU13Y7"
      },
      "execution_count": null,
      "outputs": []
    },
    {
      "cell_type": "markdown",
      "source": [
        "3. Describe three different data types.\n",
        "\n",
        "Different data types are\n",
        "\n",
        "String,\n",
        "Integer,\n",
        "Float,\n",
        "Boolean\n"
      ],
      "metadata": {
        "id": "9YkqfLtq2IYq"
      }
    },
    {
      "cell_type": "code",
      "source": [],
      "metadata": {
        "id": "IOkY6z2p2mq9"
      },
      "execution_count": null,
      "outputs": []
    },
    {
      "cell_type": "markdown",
      "source": [
        "4. What is an expression made up of? What do all expressions do?\n",
        "\n",
        "Expressions  are made up of either values or values and operators and they always make up one value. \n",
        "\n",
        "Example: 2 + 2 = 4 (2 is a value and + is operator which leads to single value which is the result 4. 2 by itself can be an expression.\n"
      ],
      "metadata": {
        "id": "h71obgg42qxo"
      }
    },
    {
      "cell_type": "code",
      "source": [],
      "metadata": {
        "id": "Wkk5bBsw4S0W"
      },
      "execution_count": null,
      "outputs": []
    },
    {
      "cell_type": "markdown",
      "source": [
        "5. This assignment statements, like spam = 10. What is the difference between an\n",
        "expression and a statement?\n",
        "\n",
        "spam = 10 is an expression because you can assign value to a variable.\n",
        "\n",
        "Statement is something where you cannot assiggn value."
      ],
      "metadata": {
        "id": "MgppJZxw4UZY"
      }
    },
    {
      "cell_type": "code",
      "source": [],
      "metadata": {
        "id": "pGKUlVFD6CdQ"
      },
      "execution_count": null,
      "outputs": []
    },
    {
      "cell_type": "markdown",
      "source": [
        "6. After running the following code, what does the variable bacon contain?\n",
        "bacon = 22\n",
        "bacon + 1"
      ],
      "metadata": {
        "id": "dRxiwnIv6M0q"
      }
    },
    {
      "cell_type": "code",
      "source": [
        "bacon = 22\n",
        "bacon + 1"
      ],
      "metadata": {
        "colab": {
          "base_uri": "https://localhost:8080/"
        },
        "id": "D3K93Ko-6OEN",
        "outputId": "34727d38-a011-49ca-cb68-48f9cae35bb9"
      },
      "execution_count": 1,
      "outputs": [
        {
          "output_type": "execute_result",
          "data": {
            "text/plain": [
              "23"
            ]
          },
          "metadata": {},
          "execution_count": 1
        }
      ]
    },
    {
      "cell_type": "code",
      "source": [],
      "metadata": {
        "id": "sNOw8S5i6RjA"
      },
      "execution_count": null,
      "outputs": []
    },
    {
      "cell_type": "markdown",
      "source": [
        "7. What should the values of the following two terms be?\n",
        "\n",
        "'spam'+'spamspam'\n",
        "\n",
        "'spam' * 3"
      ],
      "metadata": {
        "id": "A18wa79Y6aMY"
      }
    },
    {
      "cell_type": "code",
      "source": [
        "'spam'+'spamspam'"
      ],
      "metadata": {
        "colab": {
          "base_uri": "https://localhost:8080/",
          "height": 35
        },
        "id": "mpyijlQN6qbX",
        "outputId": "990de471-8fa8-48ba-9f99-95fd962e0750"
      },
      "execution_count": 2,
      "outputs": [
        {
          "output_type": "execute_result",
          "data": {
            "text/plain": [
              "'spamspamspam'"
            ],
            "application/vnd.google.colaboratory.intrinsic+json": {
              "type": "string"
            }
          },
          "metadata": {},
          "execution_count": 2
        }
      ]
    },
    {
      "cell_type": "code",
      "source": [
        "'spam'*3"
      ],
      "metadata": {
        "colab": {
          "base_uri": "https://localhost:8080/",
          "height": 35
        },
        "id": "lz4iG0H36tnw",
        "outputId": "03585ca6-ff6b-42b2-9e2d-aa203f391aec"
      },
      "execution_count": 3,
      "outputs": [
        {
          "output_type": "execute_result",
          "data": {
            "text/plain": [
              "'spamspamspam'"
            ],
            "application/vnd.google.colaboratory.intrinsic+json": {
              "type": "string"
            }
          },
          "metadata": {},
          "execution_count": 3
        }
      ]
    },
    {
      "cell_type": "code",
      "source": [],
      "metadata": {
        "id": "FmyZ83bs6xMC"
      },
      "execution_count": null,
      "outputs": []
    },
    {
      "cell_type": "markdown",
      "source": [
        "8. Why is eggs a valid variable name while 100 is invalid?\n",
        "\n",
        "100 is an invalid variable name because variable cannot start with numbers, special symbols, space. Variable can only start with underscore or alphabet, that is why eggs is a valid variable name."
      ],
      "metadata": {
        "id": "pyn0HyrN62_U"
      }
    },
    {
      "cell_type": "code",
      "source": [],
      "metadata": {
        "id": "6qpV5CBv7ejT"
      },
      "execution_count": null,
      "outputs": []
    },
    {
      "cell_type": "markdown",
      "source": [
        "9. What three functions can be used to get the integer, floating-point number, or string version of a value?\n",
        "\n",
        "int()\n",
        "\n",
        "float()\n",
        "\n",
        "str()\n"
      ],
      "metadata": {
        "id": "dY9n793b7kkC"
      }
    },
    {
      "cell_type": "code",
      "source": [],
      "metadata": {
        "id": "5N3Up34-7th4"
      },
      "execution_count": null,
      "outputs": []
    },
    {
      "cell_type": "markdown",
      "source": [
        "10. Why does this expression cause an error? How can you fix it?\n",
        "'I have eaten' + 99 + 'burritos'.\n",
        "\n",
        "'I have eaten' and 'burritos' are both string and 99 is an integer and you cannot concatenate string and integer. so in this case integer need to be converted into string."
      ],
      "metadata": {
        "id": "MFQM4TQs8nHJ"
      }
    },
    {
      "cell_type": "code",
      "source": [
        "'I have eaten' + ' 99' + ' burritos.'"
      ],
      "metadata": {
        "colab": {
          "base_uri": "https://localhost:8080/",
          "height": 35
        },
        "id": "vwkCiGPr8v_q",
        "outputId": "12a89361-bdb5-4696-88b4-63ce0f8bf08f"
      },
      "execution_count": 7,
      "outputs": [
        {
          "output_type": "execute_result",
          "data": {
            "text/plain": [
              "'I have eaten 99 burritos.'"
            ],
            "application/vnd.google.colaboratory.intrinsic+json": {
              "type": "string"
            }
          },
          "metadata": {},
          "execution_count": 7
        }
      ]
    },
    {
      "cell_type": "code",
      "source": [],
      "metadata": {
        "id": "iB-zVMi_9SeH"
      },
      "execution_count": null,
      "outputs": []
    }
  ]
}