{
  "nbformat": 4,
  "nbformat_minor": 0,
  "metadata": {
    "colab": {
      "provenance": [],
      "authorship_tag": "ABX9TyP9x46NhtOJ+hojO3wpMwWz",
      "include_colab_link": true
    },
    "kernelspec": {
      "name": "python3",
      "display_name": "Python 3"
    },
    "language_info": {
      "name": "python"
    }
  },
  "cells": [
    {
      "cell_type": "markdown",
      "metadata": {
        "id": "view-in-github",
        "colab_type": "text"
      },
      "source": [
        "<a href=\"https://colab.research.google.com/github/hardeep79/ineuron-assignment/blob/main/Assignment_Sep_25%2C_2022.ipynb\" target=\"_parent\"><img src=\"https://colab.research.google.com/assets/colab-badge.svg\" alt=\"Open In Colab\"/></a>"
      ]
    },
    {
      "cell_type": "code",
      "execution_count": null,
      "metadata": {
        "id": "pPCl-s_qzku6"
      },
      "outputs": [],
      "source": []
    },
    {
      "cell_type": "markdown",
      "source": [
        "#Assignment"
      ],
      "metadata": {
        "id": "C2M113O7zo_8"
      }
    },
    {
      "cell_type": "code",
      "source": [
        "# Find out all the types of error that we have encountered in our lecture and why? Also include the examples."
      ],
      "metadata": {
        "id": "6luOfPrMztE_"
      },
      "execution_count": null,
      "outputs": []
    },
    {
      "cell_type": "code",
      "source": [],
      "metadata": {
        "id": "R5p2csWS0Inx"
      },
      "execution_count": null,
      "outputs": []
    },
    {
      "cell_type": "markdown",
      "source": [
        "First error is name 'Ten' is not defined because Phyton is case sensitive and if we don't print variable as defined it will give us error.\n",
        "Second error is when we used reserve word 'print' as a variable\n",
        "Third is keyboard interrupt. Don't think this is an erroe buy maybe it happened due to not entering full information\n",
        "\n"
      ],
      "metadata": {
        "id": "4rQ6qXA50JHG"
      }
    },
    {
      "cell_type": "code",
      "source": [
        "# Take input A and B and print their sum, mul, div, square of the nos."
      ],
      "metadata": {
        "id": "4f53ECUG2b_5"
      },
      "execution_count": null,
      "outputs": []
    },
    {
      "cell_type": "code",
      "source": [
        "A = int(input(\"Enter Value of A: \"))\n",
        "B = int(input(\"Enter Value of B: \"))\n",
        "print(f\"\"\"\n",
        "Sum of A and B is: {A+B}\n",
        "Multiple of A and B is: {A*B}\n",
        "Division of A and B is: {A/B}\n",
        "\"\"\")"
      ],
      "metadata": {
        "colab": {
          "base_uri": "https://localhost:8080/"
        },
        "id": "UnpmPDBW4jzD",
        "outputId": "2d93a092-f41e-4e19-8b31-0a916b01bea6"
      },
      "execution_count": null,
      "outputs": [
        {
          "output_type": "stream",
          "name": "stdout",
          "text": [
            "Enter Value of A: 10\n",
            "Enter Value of B: 5\n",
            "\n",
            "Sum of A and B is: 15\n",
            "Multiple of A and B is: 50\n",
            "Division of A and B is: 2.0\n",
            "\n"
          ]
        }
      ]
    },
    {
      "cell_type": "code",
      "source": [
        "A = int(input(\"Enter Value of A: \"))\n",
        "B = int(input(\"Enter Value of B: \"))\n",
        "print(f\"\"\"\n",
        "Square of A is: {A**2}\n",
        "Square of A is: {B**2}\n",
        "\"\"\")"
      ],
      "metadata": {
        "colab": {
          "base_uri": "https://localhost:8080/"
        },
        "id": "WR18UAWs6wWx",
        "outputId": "c158f1c9-605d-4101-f007-5dd7c3699ae4"
      },
      "execution_count": null,
      "outputs": [
        {
          "output_type": "stream",
          "name": "stdout",
          "text": [
            "Enter Value of A: 10\n",
            "Enter Value of B: 5\n",
            "\n",
            "Square of A is: 100\n",
            "Square of A is: 25\n",
            "\n"
          ]
        }
      ]
    },
    {
      "cell_type": "code",
      "source": [],
      "metadata": {
        "id": "GtD2-_Lj78vl"
      },
      "execution_count": null,
      "outputs": []
    },
    {
      "cell_type": "markdown",
      "source": [
        "# How many reserve keywords are there in python and why we should not use them as a variable name"
      ],
      "metadata": {
        "id": "U4fEVnXS8MYa"
      }
    },
    {
      "cell_type": "code",
      "source": [
        "# There are 33 reserve words in phython. These words have predefined meaning and syntax and if used as variables they will loose theor predefined meaning and when we try to get result using reserve words we will get syntax error.\n"
      ],
      "metadata": {
        "id": "S0pNKRKE8N-b"
      },
      "execution_count": null,
      "outputs": []
    },
    {
      "cell_type": "markdown",
      "source": [
        "# Create email ids with the user inputs. in the following format - lastname.firstname@gmail.com"
      ],
      "metadata": {
        "id": "ecPiZuc09CRk"
      }
    },
    {
      "cell_type": "code",
      "source": [
        "lastname, firstname = \"Singh\", \"Hardeep\"\n",
        "print(f\"{lastname}.{firstname}@gmail.com\")"
      ],
      "metadata": {
        "colab": {
          "base_uri": "https://localhost:8080/"
        },
        "id": "AazXAydR85z0",
        "outputId": "5bd2ec50-2934-4520-f587-e68eb15ca56d"
      },
      "execution_count": null,
      "outputs": [
        {
          "output_type": "stream",
          "name": "stdout",
          "text": [
            "Singh.Hardeep@gmail.com\n"
          ]
        }
      ]
    },
    {
      "cell_type": "code",
      "source": [],
      "metadata": {
        "id": "RmHX-2am90XC"
      },
      "execution_count": null,
      "outputs": []
    },
    {
      "cell_type": "markdown",
      "source": [
        "Try to print the following lines -\n",
        "Hi I'm Sunny\n",
        "My address is 22\\3\n",
        "I earn 20$ daily."
      ],
      "metadata": {
        "id": "0trh01gg91CS"
      }
    },
    {
      "cell_type": "code",
      "source": [
        "name = \"Sunny\"\n",
        "address = \"22/3\"\n",
        "Wage = \"$20\"\n",
        "print(f\"\"\"\n",
        "Hi I am {name}\n",
        "My address is {address}\n",
        "I earn {Wage} daily\"\"\")"
      ],
      "metadata": {
        "colab": {
          "base_uri": "https://localhost:8080/"
        },
        "id": "XNgBQpHu913Z",
        "outputId": "8108960f-a618-404c-91c7-8ddff6cd8a5d"
      },
      "execution_count": null,
      "outputs": [
        {
          "output_type": "stream",
          "name": "stdout",
          "text": [
            "\n",
            "Hi I am Sunny\n",
            "My address is 22/3\n",
            "I earn $20 daily\n"
          ]
        }
      ]
    },
    {
      "cell_type": "code",
      "source": [],
      "metadata": {
        "id": "TE3kEi7I-i6L"
      },
      "execution_count": null,
      "outputs": []
    },
    {
      "cell_type": "markdown",
      "source": [
        "Take user input (name, address, date of birth etc) to fill a form for your college and print their email IDs"
      ],
      "metadata": {
        "id": "UAFhP-_g-0Iy"
      }
    },
    {
      "cell_type": "code",
      "source": [
        "name = input(\"Name: \")\n",
        "address = input(\"Address:\")\n",
        "date_of_birth = input('Date of Birth')\n",
        "print (f\"\"\"\n",
        "Name: {name}\n",
        "Address {address}\n",
        "DOB: {date_of_birth}\n",
        "Email: {name}@dummycollege.com\n",
        "\"\"\")"
      ],
      "metadata": {
        "colab": {
          "base_uri": "https://localhost:8080/"
        },
        "id": "4X1bFaRd_mml",
        "outputId": "4f676639-33bf-4bba-8250-71a050295033"
      },
      "execution_count": null,
      "outputs": [
        {
          "output_type": "stream",
          "name": "stdout",
          "text": [
            "Name: Hardeep\n",
            "Address:111 No Name Street\n",
            "Date of BirthJan 1, 2000\n",
            "\n",
            "Name: Hardeep\n",
            "Address 111 No Name Street\n",
            "DOB: Jan 1, 2000\n",
            "Email: Hardeep@dummycollege.com\n",
            "\n"
          ]
        }
      ]
    },
    {
      "cell_type": "code",
      "source": [
        "name_first = input(\"First Name: \")\n",
        "name_last = input(\"Last Name: \")\n",
        "address = input(\"Address:\")\n",
        "date_of_birth = input('Date of Birth')\n",
        "print (f\"\"\"\n",
        "Name: {name}\n",
        "Address {address}\n",
        "DOB: {date_of_birth}\n",
        "Email: {name_last}.{name_first}@dummycollege.com\n",
        "\"\"\")"
      ],
      "metadata": {
        "colab": {
          "base_uri": "https://localhost:8080/"
        },
        "id": "ld-_R_m-Bhp0",
        "outputId": "c31d5cf5-daf1-44bb-fbf3-f8cfb1899cd2"
      },
      "execution_count": null,
      "outputs": [
        {
          "output_type": "stream",
          "name": "stdout",
          "text": [
            "First Name: Hardeep\n",
            "Last Name: Singh\n",
            "Address:111 No Name Street\n",
            "Date of BirthJan 1, 2000\n",
            "\n",
            "Name: Hardeep\n",
            "Address 111 No Name Street\n",
            "DOB: Jan 1, 2000\n",
            "Email: Singh.Hardeep@dummycollege.com\n",
            "\n"
          ]
        }
      ]
    },
    {
      "cell_type": "code",
      "source": [],
      "metadata": {
        "id": "lre8IoUqCDwX"
      },
      "execution_count": null,
      "outputs": []
    },
    {
      "cell_type": "markdown",
      "source": [
        "Convert the following -\n",
        "\"22.4\" into integer\n",
        "\"22\" into complex no.\n"
      ],
      "metadata": {
        "id": "dI8XvskzCoQ6"
      }
    },
    {
      "cell_type": "code",
      "source": [
        "A = 22.4"
      ],
      "metadata": {
        "id": "NmBfXViVDehC"
      },
      "execution_count": null,
      "outputs": []
    },
    {
      "cell_type": "code",
      "source": [
        "print(int(A))"
      ],
      "metadata": {
        "colab": {
          "base_uri": "https://localhost:8080/"
        },
        "id": "aotdYP_lDobl",
        "outputId": "bd783400-2a7c-4c75-c3a6-cdd713e096fb"
      },
      "execution_count": null,
      "outputs": [
        {
          "output_type": "stream",
          "name": "stdout",
          "text": [
            "22\n"
          ]
        }
      ]
    },
    {
      "cell_type": "code",
      "source": [
        "print(complex(A))"
      ],
      "metadata": {
        "colab": {
          "base_uri": "https://localhost:8080/"
        },
        "id": "Gz2tb079DtJv",
        "outputId": "3df4375b-1e57-4dec-a3ff-0ee014d23f8a"
      },
      "execution_count": null,
      "outputs": [
        {
          "output_type": "stream",
          "name": "stdout",
          "text": [
            "(22.4+0j)\n"
          ]
        }
      ]
    },
    {
      "cell_type": "code",
      "source": [
        "A = 22"
      ],
      "metadata": {
        "id": "CRruDDFjDz7Z"
      },
      "execution_count": null,
      "outputs": []
    },
    {
      "cell_type": "code",
      "source": [
        "print(complex(A))"
      ],
      "metadata": {
        "colab": {
          "base_uri": "https://localhost:8080/"
        },
        "id": "SkQutLaMD4XT",
        "outputId": "2937ae15-ceff-40d5-ba26-a62c6c480005"
      },
      "execution_count": null,
      "outputs": [
        {
          "output_type": "stream",
          "name": "stdout",
          "text": [
            "(22+0j)\n"
          ]
        }
      ]
    },
    {
      "cell_type": "code",
      "source": [],
      "metadata": {
        "id": "6RWANFY9D6Dk"
      },
      "execution_count": null,
      "outputs": []
    }
  ]
}